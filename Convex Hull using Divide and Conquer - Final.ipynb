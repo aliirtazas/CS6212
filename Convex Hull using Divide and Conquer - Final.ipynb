{
 "cells": [
  {
   "cell_type": "markdown",
   "id": "ba1422d4",
   "metadata": {},
   "source": [
    "ALI IRTAZA G47541925"
   ]
  },
  {
   "cell_type": "code",
   "execution_count": 1,
   "id": "f02efcad",
   "metadata": {},
   "outputs": [],
   "source": [
    "import random\n",
    "import numpy as np\n",
    "import time\n",
    "import matplotlib.pyplot as plt"
   ]
  },
  {
   "cell_type": "code",
   "execution_count": 2,
   "id": "75d8d978",
   "metadata": {},
   "outputs": [],
   "source": [
    "def cross_product(point_a, point_b, point_c):\n",
    "    return (point_b[0] - point_a[0]) * (point_c[1] - point_a[1]) - (point_b[1] - point_a[1]) * (point_c[0] - point_a[0])\n",
    "\n",
    "def combine_hulls(hull_one, hull_two):\n",
    "    all_points = hull_one + hull_two\n",
    "    all_points.sort(key=lambda p: (p[0], p[1]))\n",
    "\n",
    "    lower_hull = []\n",
    "    for current_point in all_points:\n",
    "        while len(lower_hull) >= 2 and cross_product(lower_hull[-2],lower_hull[-1],current_point) <= 0:\n",
    "            lower_hull.pop()\n",
    "        lower_hull.append(current_point)\n",
    "\n",
    "    upper_hull = []\n",
    "    for current_point in reversed(all_points):\n",
    "        while len(upper_hull) >= 2 and cross_product(upper_hull[-2], upper_hull[-1], current_point) <= 0:\n",
    "            upper_hull.pop()\n",
    "        upper_hull.append(current_point)\n",
    "    return lower_hull[:-1] + upper_hull[:-1]\n",
    "\n",
    "def find_convex_hull(point_list):\n",
    "    if len(point_list) <= 3:\n",
    "        return sorted(point_list, key=lambda p: (p[0], p[1]))\n",
    "    \n",
    "    midpoint = len(point_list) // 2\n",
    "    left_segment = point_list[:midpoint]\n",
    "    right_segment = point_list[midpoint:]\n",
    "    \n",
    "    left_hull = find_convex_hull(left_segment)\n",
    "    right_hull = find_convex_hull(right_segment)\n",
    "    \n",
    "    return combine_hulls(left_hull, right_hull)\n",
    "\n",
    "def visualize_hull(points, hull):\n",
    "    plt.figure(figsize=(10, 6))\n",
    "    x_coords, y_coords = zip(*points)\n",
    "    plt.scatter(x_coords, y_coords, color='blue', label='Points')\n",
    "\n",
    "    if hull:\n",
    "        hull.append(hull[0])\n",
    "        x_hull, y_hull = zip(*hull)\n",
    "        plt.plot(x_hull, y_hull, color='red', label='Convex Hull')\n",
    "\n",
    "    plt.title('Convex Hull Visualization')\n",
    "    plt.xlabel('X-axis')\n",
    "    plt.ylabel('Y-axis')\n",
    "    plt.axhline(0, color='black', linewidth=0.5, ls='--')\n",
    "    plt.axvline(0, color='black', linewidth=0.5, ls='--')\n",
    "    plt.grid()\n",
    "    plt.legend()\n",
    "    plt.show()"
   ]
  },
  {
   "cell_type": "markdown",
   "id": "2d30a534",
   "metadata": {},
   "source": [
    "##### Visualizing a Convex Hull"
   ]
  },
  {
   "cell_type": "code",
   "execution_count": 3,
   "id": "a469ebfc",
   "metadata": {},
   "outputs": [
    {
     "data": {
      "image/png": "[encoded data removed]",
      "text/plain": [
       "<Figure size 720x432 with 1 Axes>"
      ]
     },
     "metadata": {
      "needs_background": "light"
     },
     "output_type": "display_data"
    }
   ],
   "source": [
    "point_data = [[65, -38], [-59, -15], [-81, 81], [66, -96], [83, -97],\n",
    "              [-4, 27], [-90, -34], [-29, 60], [-97, -19], [5, 61],\n",
    "              [81, 11], [42, 9], [-33, 35], [77, 0], [-22, 50],\n",
    "              [96, -59], [34, -48], [-92, -97], [11, -82], [-89, -18],\n",
    "              [-93, -9], [97, 24], [-56, 46], [-70, 55], [5, -62],\n",
    "              [0, 59], [-39, 89], [-19, 31], [-29, -60], [96, -7]]\n",
    "\n",
    "sorted_points = sorted(point_data, key=lambda p: p[0])\n",
    "hull_result = find_convex_hull(sorted_points)\n",
    "visualize_hull(sorted_points, hull_result)"
   ]
  },
  {
   "cell_type": "code",
   "execution_count": 4,
   "id": "4920e726",
   "metadata": {},
   "outputs": [],
   "source": [
    "def measure_time(points):\n",
    "    start_time = time.time_ns()\n",
    "    hull = find_convex_hull(points)\n",
    "    end_time = time.time_ns()\n",
    "    elapsed_time = end_time - start_time\n",
    "    return elapsed_time, hull"
   ]
  },
  {
   "cell_type": "code",
   "execution_count": 8,
   "id": "842c5d2b",
   "metadata": {},
   "outputs": [
    {
     "name": "stdout",
     "output_type": "stream",
     "text": [
      "Number of points: 100, Time taken: 0 nanoseconds\n",
      "Number of points: 200, Time taken: 1037000 nanoseconds\n",
      "Number of points: 300, Time taken: 1993800 nanoseconds\n",
      "Number of points: 400, Time taken: 3175500 nanoseconds\n",
      "Number of points: 500, Time taken: 6852200 nanoseconds\n",
      "Number of points: 600, Time taken: 4614400 nanoseconds\n",
      "Number of points: 900, Time taken: 10041100 nanoseconds\n",
      "Number of points: 1000, Time taken: 7009600 nanoseconds\n",
      "Number of points: 10000, Time taken: 71108700 nanoseconds\n",
      "Number of points: 100000, Time taken: 595739000 nanoseconds\n",
      "Number of points: 1000000, Time taken: 6816840000 nanoseconds\n",
      "Number of points: 10000000, Time taken: 64374508400 nanoseconds\n"
     ]
    }
   ],
   "source": [
    "num_points_list = [100,200,300, 400, 500,600,900, 1000, 10000, 100000, 1000000, 10000000]\n",
    "for num_points in num_points_list:\n",
    "    points = np.random.randint(-100, 100, size=(num_points, 2)).tolist()\n",
    "    elapsed_time, hull = measure_time(points)\n",
    "    print(f\"Number of points: {num_points}, Time taken: {elapsed_time} nanoseconds\")"
   ]
  }
 ],
 "metadata": {
  "kernelspec": {
   "display_name": "Python 3 (ipykernel)",
   "language": "python",
   "name": "python3"
  },
  "language_info": {
   "codemirror_mode": {
    "name": "ipython",
    "version": 3
   },
   "file_extension": ".py",
   "mimetype": "text/x-python",
   "name": "python",
   "nbconvert_exporter": "python",
   "pygments_lexer": "ipython3",
   "version": "3.9.12"
  }
 },
 "nbformat": 4,
 "nbformat_minor": 5
}
